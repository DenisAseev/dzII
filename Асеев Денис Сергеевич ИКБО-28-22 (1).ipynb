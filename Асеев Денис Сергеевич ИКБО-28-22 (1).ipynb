{
  "metadata": {
    "kernelspec": {
      "name": "python",
      "display_name": "Python (Pyodide)",
      "language": "python"
    },
    "language_info": {
      "codemirror_mode": {
        "name": "python",
        "version": 3
      },
      "file_extension": ".py",
      "mimetype": "text/x-python",
      "name": "python",
      "nbconvert_exporter": "python",
      "pygments_lexer": "ipython3",
      "version": "3.8"
    }
  },
  "nbformat_minor": 5,
  "nbformat": 4,
  "cells": [
    {
      "cell_type": "code",
      "source": "# Номер 1.3\nx = 5 >= 2\nA = {1, 3, 7, 8}\nB = {2, 4, 5, 10, 'apple'}\nC = A & B\ndf = 'Антонова Антонина', 34, 'ж'\nz = 'type'\nD = [1, 'title', 2, 'content']\n\nprint(x, '|', type(x), '\\n', A, '|', type(A), '\\n', B, '|', type(B), '\\n', C, '|', type(C), '\\n',\n      df, '|', type(df), '\\n', z, '|', type(z), '\\n', D, '|', type(D)) # выводим",
      "metadata": {},
      "execution_count": null,
      "outputs": [],
      "id": "696f4fc1-2750-4319-b3a7-d9470f14cd09"
    },
    {
      "cell_type": "code",
      "source": "# Номер 2.3\nprint('x: ')\nx = int(input())\nif x < -5:\n    print('(-infinity, -5)')\nelif -5 <= x <= 5:\n    print('[-5, 5]')\nelse:\n    print('(5, +infinity)') # еще раз выводим",
      "metadata": {},
      "execution_count": null,
      "outputs": [],
      "id": "ee21a095-692c-40e9-975b-d2c087f6906d"
    },
    {
      "cell_type": "code",
      "source": "# Номер 3.3.1\nx = 10\nwhile x >= 1:\n    print(x) # выводим и считаем\n    x -= 3",
      "metadata": {},
      "execution_count": null,
      "outputs": [],
      "id": "feab83b3-5d65-4937-875b-f2b3a478f826"
    },
    {
      "cell_type": "code",
      "source": "# Номер 3.3.2\nprint(['рост', 'вес', 'пол']) # просто выводим",
      "metadata": {},
      "execution_count": null,
      "outputs": [],
      "id": "453f72d3-8a24-46b9-9a04-a7119616e3f7"
    },
    {
      "cell_type": "code",
      "source": "# Номер 3.3.3\nx = []\nfor y in range(2, 16, 2):\n    x.append(y) # массив с интервалом 2\nprint(x)",
      "metadata": {},
      "execution_count": null,
      "outputs": [],
      "id": "d6bdf6da-b373-43ce-9824-ac173b87ca2d"
    },
    {
      "cell_type": "code",
      "source": "# Номер 3.3.4\nfor x in range(105, 4, -25):\n    print(x) # выводим массив с интервалом -25",
      "metadata": {},
      "execution_count": null,
      "outputs": [],
      "id": "080b7b1e-487e-4676-bcb9-6913a0818dee"
    },
    {
      "cell_type": "code",
      "source": "# Номер 3.3.5\nx = [0, 1, 2, 3, 4, 5, 6, 7, 8, 9]\nx[0::2] = reversed(x[0::2])\nprint(x)",
      "metadata": {},
      "execution_count": null,
      "outputs": [],
      "id": "22d1028e-a8a1-47eb-93ee-09e3c251e5a4"
    },
    {
      "cell_type": "code",
      "source": "# Номер 4.3.1\nimport random\nimport statistics\nx = [random.random() for y in range(10)] # Массив случ. знач(0; 1)\nmedian = statistics.median(x) # Медианные знач. для массива\nmedium = sum(x) / len(x) # Средние знач. для массива\nfig, compare = plt.subplots(figsize = (10, 6))\ncompare.scatter(x, x)\nplt.show()",
      "metadata": {},
      "execution_count": null,
      "outputs": [],
      "id": "ba7ffd04-2745-4f24-90f6-68fe74710b3d"
    },
    {
      "cell_type": "code",
      "source": "# Номер 4.3.2\nfrom matplotlib import pyplot as plt\nfrom math import sqrt \nfunction = []\nfor x in range(1,11): # Массив функции\n      function.append((sqrt(1 + math.e ** sqrt(x) + math.cos(x**2)))/abs(1- (math.sin(x))**3)) # функция\nnewfunction = function[:5] # Срез половины массива\nplt.plot(function) # график\nplt.show()\nfig, ax = plt.subplots(figsize=(10, 6)) # Точечный график\nax.scatter(newfunction, newfunction)\nplt.show()",
      "metadata": {},
      "execution_count": null,
      "outputs": [],
      "id": "ad03faf0-275a-4fb6-9f87-281f1ee21d7c"
    },
    {
      "cell_type": "code",
      "source": "# Номер 4.3.3\nfrom numpy import trapz\nimport numpy as np\nx = np.arange(0.0, 10)  # График с интервалом 1\ny = np.abs(np.cos(x * np.exp(np.cos(x) + np.log(x+1)))) # функция\nplt.grid()\nplt.plot(x, y, c = 'r')\nplt.fill_between(x,y)\nplt.show()\n\nprint(trapz(y)) # площадь",
      "metadata": {},
      "execution_count": null,
      "outputs": [],
      "id": "48b4b6a6-ead5-4c16-ad98-c7435b74a19a"
    },
    {
      "cell_type": "code",
      "source": "# Номер 4.3.4\nApple = [random.randint(140,150) for i in range(12)]\nGoogle = [random.randint(140,160) for i in range(12)]\nMicrosoft = [random.randint(120,150) for i in range(12)]\nplt.plot(Apple)\nplt.plot(Google)\nplt.plot(Microsoft)\nplt.show()",
      "metadata": {},
      "execution_count": null,
      "outputs": [],
      "id": "9a7a86a5-aafd-4376-a16c-65634c9db9be"
    },
    {
      "cell_type": "code",
      "source": "# Номер 4.3.5\nfrom math import *\nprint('Input x')\nx = int(input())\nprint('Input y')\ny = int(input())\nprint(x+y) # вычисление\nprint(x-y)\nprint(x*y)\nprint(x/y)\nprint(e**(x+y))\nprint(sin(x+y))\nprint(cos(x+y))\nprint(x**y)",
      "metadata": {},
      "execution_count": null,
      "outputs": [],
      "id": "55061cc7-0371-4561-9489-3568a8708f46"
    }
  ]
}